{
 "cells": [
  {
   "cell_type": "markdown",
   "metadata": {},
   "source": [
    "# The Beam Driven Plasma Wake Field Acceleration (Nonlinear regime)"
   ]
  },
  {
   "cell_type": "markdown",
   "metadata": {},
   "source": [
    "## Our main goal is to calculate the accelerating field: $E_z$ and the focusing force: $\\textbf F_\\perp$\n",
    "\n",
    "Starting from Maxwell equations in Lorentz gauge: \n",
    "$$(\\frac{\\partial^2}{\\partial t^2}-{\\nabla}^2)\\textbf A =  \\textbf J\\;\\;\\;\\;\\;(\\frac{\\partial^2}{\\partial t^2}-{\\nabla}^2)\\phi = \\rho$$\n",
    "\n",
    "Apply quasistatic approximation: $(x,y,z,t) \\rightarrow (x,y,\\xi = ct - z, s = z )$ and neglect $\\frac{\\partial}{\\partial s}$, we get:\n",
    "\n",
    "$$-{\\nabla_\\perp}^2\\textbf A(x,y,\\xi) =  \\textbf J(x,y,\\xi) \\;\\;\\;\\;\\; -{\\nabla_\\perp}^2 \\phi(x,y,\\xi) = \\rho(x,y,\\xi)$$\n",
    "Subtract the $z$ component of the first equation from the second equation, we obtain:\n",
    "\n",
    "$${\\nabla_\\perp}^2 \\psi = -({\\rho} - J_z)$$\n",
    "\n",
    "where $\\psi = \\phi - A_z$ called pseudo potential.\n",
    "\n",
    "Calculating fields from the potentials: $\\textbf B = \\nabla  \\times \\textbf A$, $\\textbf E = -\\nabla \\phi - \\frac{1}{c}\\frac{\\partial \\textbf A}{\\partial t}$ and Lorentz force: $\\textbf F =-( \\textbf E + \\hat{z} \\times \\textbf B)$, we get:\n",
    "\n",
    "* The accelerating field is : $E_z = \\frac{\\partial \\psi}{\\partial \\xi}$ \n",
    "* The focusing force is : $\\textbf F_\\perp = \\nabla_\\perp \\psi$\n",
    "\n",
    "Our goal reduces to solving for $\\psi$. It is a 2D Poisson equation! But we need to make some assumptions about the source term: $-({\\rho} - J_z)$ \n",
    "\n",
    "We assume the source term to have the following profile:"
   ]
  },
  {
   "cell_type": "code",
   "execution_count": 1,
   "metadata": {},
   "outputs": [
    {
     "data": {
      "image/png": "[encoded data removed]",
      "text/plain": [
       "<Figure size 432x288 with 1 Axes>"
      ]
     },
     "metadata": {
      "needs_background": "light"
     },
     "output_type": "display_data"
    }
   ],
   "source": [
    "import matplotlib.pyplot as plt\n",
    "import numpy as np\n",
    "rb = 2\n",
    "Delta = 0.2\n",
    "epsilon = 0.01\n",
    "peak = rb**2/((rb+Delta)**2 - rb**2)\n",
    "r = [0,rb,rb+epsilon,rb+Delta,rb+Delta+epsilon,3*rb]\n",
    "source = [-1,-1,peak,peak,0,0]\n",
    "plt.plot(r,source)\n",
    "plt.xlabel('$r$')\n",
    "plt.ylabel('$-(\\\\rho - J_z)$')\n",
    "plt.yticks(np.arange(-1, 6, 1))\n",
    "plt.title('$r_b = 2, \\Delta = 0.1$') \n",
    "plt.show()"
   ]
  },
  {
   "cell_type": "markdown",
   "metadata": {},
   "source": [
    "The peak density in the sheath is determined from the continuity equation. For any $\\xi$ we have: $\\int_0^{\\infty}(\\rho - J_z) r dr = 0$. From this we get the peak density in the sheath is: $\\frac{r_b^2}{(r_b + \\Delta)^2 - r_b^2}$\n",
    "\n",
    "So far we have got the source profile. So we can solve the 2D poisson equation (Actually, just 1D in $r$ since we assume azimuthal symmetry) and get $\\psi$. The final solution is:\n",
    "\n",
    "$$\\psi(r,\\xi) = \\psi_0(\\xi) - \\frac{r^2}{4} = \\frac{r_b(\\xi)^2}{4}(1+\\beta) - \\frac{r^2}{4}$$\n",
    "\n",
    "where $\\beta = \\frac{(1+\\alpha)^2 \\ln(1+\\alpha)^2}{(1+\\alpha)^2-1}-1 $, and $\\alpha = \\frac{\\Delta}{r_b}$\n",
    "\n",
    " \n",
    "* The focusing force is : $\\textbf F_\\perp = \\nabla_\\perp \\psi = - \\frac{\\textbf r}{2} $, which is independent of $\\xi$.\n",
    "* The accelerating field is : $E_z = \\frac{\\partial \\psi}{\\partial \\xi}= \\frac{d \\psi_0(\\xi)}{d \\xi}$, which is independent of $r$.\n",
    " \n",
    "In the untrarelativistic limit, $\\alpha$ goes to 0, $\\beta$ goes to 0 as well. Then:\n",
    "\n",
    "$$E_z(\\xi) = \\frac{d}{d \\xi}(\\frac{r_b(\\xi)^2}{4}) = \\frac{1}{2}r_b(\\xi)\\frac{dr_b(\\xi)}{d\\xi}$$\n",
    "\n",
    "Then we may ask: How can we solve for the boundary of the ion bubble: $r_b(\\xi)$? This can be obtained from the equation of motion for an electron on the boundary, but the math is quite complicated. For details, see https://journals.aps.org/prl/abstract/10.1103/PhysRevLett.96.165002\n",
    "\n",
    "In the untrarelativistic limit, $r_b(\\xi)$ is described by:\n",
    "\n",
    "$$r_b\\frac{d^2r_b}{d\\xi^2} + 2[\\frac{dr_b}{d\\xi}]^2+1=\\frac{4\\lambda(\\xi)}{r_b^2}$$\n",
    "\n",
    "where $\\lambda(\\xi) = \\int_0^\\infty rn_b dr$, is the charge per unit length of an electron beam (drive or trailing beam) divided by $2\\pi$."
   ]
  },
  {
   "cell_type": "markdown",
   "metadata": {},
   "source": [
    "## 1. Make an input file\n",
    "* In the same directory as this Jupyter notebook, there must be a template input file (the default name is qpinput_template.json) and two python files: mkQPinput.py and pyVisQP.py"
   ]
  },
  {
   "cell_type": "code",
   "execution_count": 2,
   "metadata": {
    "scrolled": false
   },
   "outputs": [
    {
     "data": {
      "application/vnd.jupyter.widget-view+json": {
       "model_id": "40a6b9048a34465bb14da72fe991affa",
       "version_major": 2,
       "version_minor": 0
      },
      "text/plain": [
       "interactive(children=(Text(value='qpinput_template.json', description='Template Input File:', layout=Layout(wi…"
      ]
     },
     "metadata": {},
     "output_type": "display_data"
    }
   ],
   "source": [
    "from importlib import reload\n",
    "import mkQPinput\n",
    "mkQPinput = reload(mkQPinput)\n",
    "mkQPinput.makeWidgetsForInput()"
   ]
  },
  {
   "cell_type": "markdown",
   "metadata": {},
   "source": [
    "## 2. Run QuickPIC simulation"
   ]
  },
  {
   "cell_type": "code",
   "execution_count": 3,
   "metadata": {
    "scrolled": false
   },
   "outputs": [
    {
     "name": "stdout",
     "output_type": "stream",
     "text": [
      "quickpic completed normally\n"
     ]
    }
   ],
   "source": [
    "import quickpic\n",
    "dirname = 'rundir'\n",
    "quickpic.runqpic(rundir=dirname,inputfile='qpinput.json')"
   ]
  },
  {
   "cell_type": "markdown",
   "metadata": {},
   "source": [
    "## 3. Visualize the output data\n",
    "### 1. Plasma and beam density"
   ]
  },
  {
   "cell_type": "code",
   "execution_count": 4,
   "metadata": {},
   "outputs": [
    {
     "data": {
      "application/vnd.jupyter.widget-view+json": {
       "model_id": "e65d017c266d4182987639666f7a8677",
       "version_major": 2,
       "version_minor": 0
      },
      "text/plain": [
       "interactive(children=(FloatRangeSlider(value=(-5.0, 0.0), continuous_update=False, description='Colorbar:', ma…"
      ]
     },
     "metadata": {},
     "output_type": "display_data"
    }
   ],
   "source": [
    "from importlib import reload\n",
    "import pyVisQP\n",
    "pyVisQP = reload(pyVisQP)\n",
    "\n",
    "dirname = 'rundir'\n",
    "\n",
    "# LineoutDir can be chosen from: None, 'transverse', 'longitudinal'\n",
    "\n",
    "# Plot the charge density of plasma and beam\n",
    "filename1 = dirname +'/Species0001/Charge_slice_0001/charge_slice_xz_00000001.h5'\n",
    "filename2 = dirname +'/Beam0001/Charge_slice_0001/charge_slice_xz_00000001.h5'\n",
    "filenameList = [filename1,filename2]\n",
    "scaleList = [1,1]\n",
    "pyVisQP.makeplot(filenameList,scaleList,LineoutDir = None)"
   ]
  },
  {
   "cell_type": "markdown",
   "metadata": {},
   "source": [
    "### 2. Accelerating field: $E_z$\n",
    "* Transverse lineout"
   ]
  },
  {
   "cell_type": "code",
   "execution_count": 5,
   "metadata": {
    "scrolled": false
   },
   "outputs": [
    {
     "data": {
      "application/vnd.jupyter.widget-view+json": {
       "model_id": "db2041fbc78145bd99af997c4e60c6e1",
       "version_major": 2,
       "version_minor": 0
      },
      "text/plain": [
       "interactive(children=(FloatRangeSlider(value=(-1.0, 1.0), continuous_update=False, description='Colorbar:', ma…"
      ]
     },
     "metadata": {},
     "output_type": "display_data"
    }
   ],
   "source": [
    "# Plot the accelerating field with transverse lineout\n",
    "filename = dirname +'/Fields/Ez_slice0001/ezslicexz_00000001.h5'\n",
    "filenameList = [filename]\n",
    "pyVisQP.makeplot(filenameList,LineoutDir = 'transverse',specify_title = '$E_z \\; [mc\\omega_p / e]$')"
   ]
  },
  {
   "cell_type": "markdown",
   "metadata": {},
   "source": [
    "### We can see that the accelerating field $E_z$ is uniform along transverse direction. So the beam particles within the same longitudinal slice will gain energy at the same rate.\n",
    "* Longitudinal lineout"
   ]
  },
  {
   "cell_type": "code",
   "execution_count": 7,
   "metadata": {},
   "outputs": [
    {
     "data": {
      "application/vnd.jupyter.widget-view+json": {
       "model_id": "f45970dcdeb74a56afee44cd3085064f",
       "version_major": 2,
       "version_minor": 0
      },
      "text/plain": [
       "interactive(children=(FloatRangeSlider(value=(-5.0, 0.0), continuous_update=False, description='Colorbar:', ma…"
      ]
     },
     "metadata": {},
     "output_type": "display_data"
    }
   ],
   "source": [
    "# Plot the plasma density and get the boundary of the ion bubble\n",
    "filename = dirname +'/Species0001/Charge_slice_0001/charge_slice_xz_00000001.h5'\n",
    "filenameList = [filename]\n",
    "pyVisQP.makeplot(filenameList,LineoutDir = None)"
   ]
  },
  {
   "cell_type": "code",
   "execution_count": 9,
   "metadata": {},
   "outputs": [
    {
     "data": {
      "application/vnd.jupyter.widget-view+json": {
       "model_id": "00a9fef3f0aa4d0fab65ff95a3b4fe0a",
       "version_major": 2,
       "version_minor": 0
      },
      "text/plain": [
       "interactive(children=(FloatRangeSlider(value=(-1.0, 1.0), continuous_update=False, description='Colorbar:', ma…"
      ]
     },
     "metadata": {},
     "output_type": "display_data"
    }
   ],
   "source": [
    "# Plot the accelerating field with longitudinal lineout, and also the theoretical plot.\n",
    "pyVisQP = reload(pyVisQP)\n",
    "filename = dirname +'/Fields/Ez_slice0001/ezslicexz_00000001.h5'\n",
    "filenameList = [filename]\n",
    "pyVisQP.makeplot(filenameList,LineoutDir = 'longitudinal',specify_title = '$E_z \\; [mc\\omega_p / e]$')"
   ]
  },
  {
   "cell_type": "markdown",
   "metadata": {},
   "source": [
    "### 3. Focusing force\n",
    "* Transverse lineout\n"
   ]
  },
  {
   "cell_type": "code",
   "execution_count": 10,
   "metadata": {
    "scrolled": false
   },
   "outputs": [
    {
     "data": {
      "application/vnd.jupyter.widget-view+json": {
       "model_id": "1f1fb9a9709d41febd136607fa37c775",
       "version_major": 2,
       "version_minor": 0
      },
      "text/plain": [
       "interactive(children=(FloatRangeSlider(value=(-1.0, 1.0), continuous_update=False, description='Colorbar:', ma…"
      ]
     },
     "metadata": {},
     "output_type": "display_data"
    }
   ],
   "source": [
    "# Plot the x component of the focusing force : Fx with transverse and longitudinal lineout\n",
    "filename1 = dirname + '/Fields/Ex_slice0001/exslicexz_00000001.h5'\n",
    "filename2 = dirname + '/Fields/By_slice0001/byslicexz_00000001.h5'\n",
    "filenameList = [filename1,filename2]\n",
    "scaleList = [-1,1]\n",
    "pyVisQP.makeplot(filenameList,scaleList,LineoutDir = 'transverse',specify_title = '$F_x \\; [mc\\omega_p]$',Show_theory = 'focus')"
   ]
  },
  {
   "cell_type": "markdown",
   "metadata": {},
   "source": [
    "### We can see that the focusing force $F_x$ is linear in transverse direction. Linear focusing force preserve the emittance of a monoenergetic beam. Also, due to the linear focusing force, the motion in $x$ and $y$ directions are decoupled.\n",
    "* Longitudinal lineout"
   ]
  },
  {
   "cell_type": "code",
   "execution_count": 11,
   "metadata": {},
   "outputs": [
    {
     "data": {
      "application/vnd.jupyter.widget-view+json": {
       "model_id": "dbbba0ca079b43d48cf614b3b5caf736",
       "version_major": 2,
       "version_minor": 0
      },
      "text/plain": [
       "interactive(children=(FloatRangeSlider(value=(-1.0, 1.0), continuous_update=False, description='Colorbar:', ma…"
      ]
     },
     "metadata": {},
     "output_type": "display_data"
    }
   ],
   "source": [
    "pyVisQP.makeplot(filenameList,scaleList,LineoutDir = 'longitudinal',specify_title = '$F_x \\; [mc\\omega_p]$',Show_theory = 'focus')"
   ]
  },
  {
   "cell_type": "markdown",
   "metadata": {},
   "source": [
    "### We can see that the focusing force $F_x$ does not depend on the longitudinal position. This ensures that the beam particles at different longitudinal positions will oscillate at the same betatron frequency, if they have the same energy."
   ]
  }
 ],
 "metadata": {
  "kernelspec": {
   "display_name": "Python 3",
   "language": "python",
   "name": "python3"
  },
  "language_info": {
   "codemirror_mode": {
    "name": "ipython",
    "version": 3
   },
   "file_extension": ".py",
   "mimetype": "text/x-python",
   "name": "python",
   "nbconvert_exporter": "python",
   "pygments_lexer": "ipython3",
   "version": "3.7.3"
  }
 },
 "nbformat": 4,
 "nbformat_minor": 2
}
