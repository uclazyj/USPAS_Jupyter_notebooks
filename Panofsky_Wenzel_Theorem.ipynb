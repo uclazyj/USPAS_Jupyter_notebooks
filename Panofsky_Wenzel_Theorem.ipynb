{
 "cells": [
  {
   "cell_type": "markdown",
   "metadata": {},
   "source": [
    "# Panofsky Wenzel theorem\n",
    "\n",
    "In this notebook, we are going to learn Panofsky Wenzel theorem and verify it.\n",
    "\n",
    "In PWFA, we calculate the Pseudo-potential $\\psi \\;(\\psi= \\phi - A_z)$ first, then take transverse derivatives $\\partial_x,\\partial_y$ and longitudinal derivatives $\\partial_\\xi$ (where $\\xi = ct-z$) to get the focusing force and accelerating field:\n",
    "\n",
    "$$F_x = \\frac{\\partial \\psi}{\\partial x}, \\; F_y = \\frac{\\partial \\psi}{\\partial y},\\;E_z = \\frac{\\partial \\psi}{\\partial \\xi}$$\n",
    "\n",
    "Or \n",
    "\n",
    "$$(F_x,F_y,E_z) = \\nabla \\psi$$ \n",
    "\n",
    "where $\\nabla = (\\partial_x, \\partial_y, \\partial_\\xi)$.\n",
    "\n",
    "Apply $\\nabla \\times$ to the above equation and use $\\nabla \\times \\nabla \\psi = 0$, we can obtain:\n",
    "\n",
    "$$\\frac{\\partial E_z}{\\partial x} = \\frac{\\partial F_x}{\\partial \\xi},\\; \\frac{\\partial E_z}{\\partial y} = \\frac{\\partial F_y}{\\partial \\xi},\\; \\frac{\\partial F_y}{\\partial x} = \\frac{\\partial F_x}{\\partial y}$$\n",
    "\n",
    "Typically we are interested in the first two relations, and without the loss of generality we can only study the first relation. It has an important corollary: If the accelerating field does not depend on the transverse position ($\\frac{\\partial E_z}{\\partial x} = 0$), then the focusing force does not depend on the longitudinal position ($\\frac{\\partial F_x}{\\partial \\xi} = 0$). This occurs in the blowout regime of PWFA and it is good for preserving the beam's energy spread and emittance.\n",
    "\n",
    "Now let us verify the Panofsky Wenzel theorem using QuickPIC simulation"
   ]
  },
  {
   "cell_type": "markdown",
   "metadata": {},
   "source": [
    "# QuickPIC simulation\n",
    "\n",
    "## 1. Make an input file\n",
    "* In the same directory as this Jupyter notebook, there must be a template input file (the default name is qpinput_template.json) and two python files: mkQPinput_PWT.py and pyVisQP.py"
   ]
  },
  {
   "cell_type": "code",
   "execution_count": 1,
   "metadata": {},
   "outputs": [
    {
     "data": {
      "application/vnd.jupyter.widget-view+json": {
       "model_id": "85cbf047502846d29f8acc1917fc5c1f",
       "version_major": 2,
       "version_minor": 0
      },
      "text/plain": [
       "interactive(children=(Text(value='qpinput_template.json', description='Template Input File:', layout=Layout(wi…"
      ]
     },
     "metadata": {},
     "output_type": "display_data"
    }
   ],
   "source": [
    "from importlib import reload\n",
    "import mkQPinput_PWT\n",
    "mkQPinput_PWT = reload(mkQPinput_PWT)\n",
    "mkQPinput_PWT.makeWidgetsForInput()"
   ]
  },
  {
   "cell_type": "markdown",
   "metadata": {},
   "source": [
    "## 2. Run QuickPIC simulation"
   ]
  },
  {
   "cell_type": "code",
   "execution_count": 2,
   "metadata": {},
   "outputs": [
    {
     "name": "stdout",
     "output_type": "stream",
     "text": [
      "quickpic completed normally\n"
     ]
    }
   ],
   "source": [
    "import quickpic\n",
    "dirname = 'rundir'\n",
    "quickpic.runqpic(rundir=dirname,inputfile='qpinput.json')"
   ]
  },
  {
   "cell_type": "markdown",
   "metadata": {},
   "source": [
    "## 3. Visualize the plasma electron density, $E_z$, and $F_x$\n",
    "\n",
    "Let us look at the plasma electron density, the accelerating field $E_z$, and the focusing force $F_x$ first. As you drag the slider, pay attention that:\n",
    "\n",
    "* The lineout of the accelerating field $E_z$ is vertical (flat) inside the ion bubble.\n",
    "* The lineout of the focusing force $F_x$ is horizontal (flat) inside the bubble."
   ]
  },
  {
   "cell_type": "code",
   "execution_count": 39,
   "metadata": {
    "scrolled": false
   },
   "outputs": [
    {
     "data": {
      "application/vnd.jupyter.widget-view+json": {
       "model_id": "d7e1f25dc58a4b2cb4b075e60a10b8ef",
       "version_major": 2,
       "version_minor": 0
      },
      "text/plain": [
       "interactive(children=(FloatRangeSlider(value=(-5.0, 0.0), continuous_update=False, description='Colorbar:', ma…"
      ]
     },
     "metadata": {},
     "output_type": "display_data"
    },
    {
     "data": {
      "application/vnd.jupyter.widget-view+json": {
       "model_id": "82d41a50fb6c4711b9b6e67f4b3c1d92",
       "version_major": 2,
       "version_minor": 0
      },
      "text/plain": [
       "interactive(children=(FloatRangeSlider(value=(-1.0, 1.0), continuous_update=False, description='Colorbar:', ma…"
      ]
     },
     "metadata": {},
     "output_type": "display_data"
    }
   ],
   "source": [
    "from importlib import reload\n",
    "import pyVisQP\n",
    "pyVisQP = reload(pyVisQP)\n",
    "\n",
    "dirname = 'rundir'\n",
    "\n",
    "# LineoutDir can be chosen from: None, 'transverse', 'longitudinal'\n",
    "\n",
    "# Plot the plasma electron density\n",
    "filename = dirname +'/Species0001/Charge_slice_0001/charge_slice_xz_00000001.h5'\n",
    "pyVisQP.makeplot(filename,LineoutDir = None)\n",
    "\n",
    "# Plot the accelerating field with transverse lineout\n",
    "filename = dirname +'/Fields/Ez_slice0001/ezslicexz_00000001.h5'\n",
    "pyVisQP.makeplot(filename,LineoutDir = 'transverse',specify_title = '$E_z \\; [mc\\omega_p / e]$')"
   ]
  },
  {
   "cell_type": "code",
   "execution_count": null,
   "metadata": {},
   "outputs": [],
   "source": []
  }
 ],
 "metadata": {
  "kernelspec": {
   "display_name": "Python 3",
   "language": "python",
   "name": "python3"
  },
  "language_info": {
   "codemirror_mode": {
    "name": "ipython",
    "version": 3
   },
   "file_extension": ".py",
   "mimetype": "text/x-python",
   "name": "python",
   "nbconvert_exporter": "python",
   "pygments_lexer": "ipython3",
   "version": "3.7.3"
  }
 },
 "nbformat": 4,
 "nbformat_minor": 2
}
