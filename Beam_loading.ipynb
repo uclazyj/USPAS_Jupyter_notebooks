{
 "cells": [
  {
   "cell_type": "markdown",
   "metadata": {},
   "source": [
    "# Beam loading in the nonlinear blowout regime of Plasma-based acceleration\n",
    "\n",
    "In this notebook, we are going to introduce the beam loading theory (add citation) in the nonlinear regime of PWFA and compare it with the QuickPIC simulations.\n",
    "\n",
    "From Weilu's theory (add citation), in the untrarelativistic limit, the pseudo-potential inside the ion channel is:\n",
    "\n",
    "$$\\psi(r,\\xi) \\approx \\frac{1}{4}(r_b(\\xi)^2 - r^2)$$\n",
    "\n",
    "where $r_b(\\xi)$ is the boundary of the ion channel, which is described by the differential equation:\n",
    "\n",
    "$$r_br_b''(\\xi) + 2[r_b'(\\xi)]^2 + 1 = \\frac{4\\lambda(\\xi)}{r_b(\\xi)^2} \\tag{1} $$\n",
    "\n",
    "where $\\lambda(\\xi) = \\int_0^\\infty rn_b dr$, is the charge per unit length of an electron beam (drive or trailing beam) divided by $2\\pi$. Here we are only interested in the back half of the bubble (where beam loading occurs), we can interpret $\\lambda(\\xi)$ as the charge per unit length of the trailing beam divided by $2\\pi$. Also, we set up the coordinate system as the following: (add citation)\n",
    "\n",
    "In beam loading, we are interested in the accelerating field, which is calculated by taking the longitudinal derivative with respect to $\\psi$:\n",
    "\n",
    "$$E_z = \\frac{\\partial \\psi}{\\partial \\xi} = \\frac{1}{2}r_b r_b'(\\xi)$$\n",
    "\n",
    "So the idea is to solve for $r_b$ from equation (1), then plug it in the above equation to obtain $E_z$. So now let us solve equation (1). We change variable from $\\xi$ to $r_b$, so $r_b''(\\xi) = \\frac{dr_b'}{d\\xi} = \\frac{dr_b'}{dr_b} \\frac{dr_b}{d\\xi} = r_b' \\frac{dr_b'}{dr_b}$, so equation (1) becomes:\n",
    "\n",
    "$$r_br_b' \\frac{dr_b'}{dr_b} + 2r_b'^2 + 1 = \\frac{4\\lambda}{r_b^2} \\tag{2}$$\n",
    "\n",
    "I changed the variable from $\\xi$ to $r_b$ implicitly so now everything in the above equation is a function of $r_b$. The trick to solve this equation is to realize $r_b' \\frac{dr_b'}{dr_b} = \\frac{1}{2} \\frac{d(r_b'^2)}{dr_b}$, so we can make a substitution $u = r_b'^2$. Equation (2) reduces to:\n",
    "\n",
    "$$\\frac{1}{2} r_b \\frac{du}{dr_b} + 2u + 1 = \\frac{4\\lambda}{r_b^2}$$\n",
    "\n",
    "This is a first order differential equation. We can multiply $2 r_b^3$ on both sides:\n",
    "\n",
    "$$\\frac{d}{dr_b}(u r_b^4)= 8r_b\\lambda - 2r_b^3$$\n",
    "\n",
    "So:\n",
    "\n",
    "$$r_b'^2 = u = \\frac{8\\int\\lambda(r_b)r_bdr_b - \\frac{1}{2}r_b^4}{r_b^4}$$\n",
    "\n",
    "At the back of the bubble ($\\xi \\geq 0$), $r_b' = dr_b / d\\xi \\leq 0$. So:\n",
    "\n",
    "$$r_b' = -\\sqrt{\\frac{8\\int\\lambda(r_b)r_bdr_b - \\frac{1}{2}r_b^4}{r_b^4}}$$\n",
    "\n",
    "So finally, we get:\n",
    "\n",
    "$$E_z = \\frac{1}{2}r_b r_b' = -\\frac{r_b}{2\\sqrt{2}}\\sqrt{\\frac{16\\int\\lambda(r_b)r_bdr_b}{r_b^4}-1} \\tag{3}$$\n",
    "\n",
    "When $0 \\leq \\xi \\leq \\xi_s$, $\\lambda = 0$. So the indefinite integral is equal to a constant: $E_z = -\\frac{r_b}{2\\sqrt{2}}\\sqrt{\\frac{C}{r_b^4}-1}$. We determine the constant $C$ using the condition that $E_z = 0$ at $r_b = R_b$ (because $r_b'(\\xi = 0) = 0$ here). We can get $C = R_b^4$. So:\n",
    "\n",
    "$$E_z = -\\frac{r_b}{2\\sqrt{2}}\\sqrt{\\frac{R_b^4}{r_b^4}-1} \\;\\;\\; (0 \\leq \\xi \\leq \\xi_s) \\tag{4}$$\n",
    "\n",
    "When $\\xi > \\xi_s$, $\\lambda$ is determined by the trailing beam. We want $E_z$ to be a constant (all the way until the end of the ion channel) so that the energy spread of the trailing beam is minimized. We denote this constant by $-E_s$. So we have:\n",
    "\n",
    "$$-E_s = -\\frac{r_b}{2\\sqrt{2}}\\sqrt{\\frac{16\\int\\lambda(r_b)r_bdr_b}{r_b^4}-1}$$\n",
    "\n",
    "We can get:\n",
    "\n",
    "$$\\lambda(r_b) = E_s^2 + \\frac{1}{4}r_b^2 \\tag{5}$$\n",
    "\n",
    "So we need to figure out: 1. The constant accelerating field: $-E_s$. 2. The bubble boundary: $r_b$ when $\\xi \\geq \\xi_s$\n",
    "\n",
    "* $E_s$\n",
    "\n",
    "We require $E_z$ to be continuous at $\\xi = \\xi_s$ (or $r_b = r_s$). So from equation (4) we have:\n",
    "\n",
    "$$E_s = \\frac{r_s}{2\\sqrt{2}}\\sqrt{\\frac{R_b^4}{r_s^4}-1} \\tag{6}$$\n",
    "\n",
    "* $r_b \\; (\\xi \\geq \\xi_s)$\n",
    "\n",
    "We know the relation between the accelerating field and the bubble boundary:\n",
    "\n",
    "$$-E_s = \\frac{1}{2}r_b(\\xi)r_b'(\\xi) = \\frac{1}{4}\\frac{d(r_b^2)}{d\\xi}$$\n",
    "\n",
    "Using the boundary condition: At $\\xi = \\xi_s$, $r_b = r_s$, we get:\n",
    "\n",
    "$$r_b^2 = r_s^2 - 4E_s(\\xi - \\xi_s) \\tag{7}$$\n",
    "\n",
    "Setting $r_b = 0$ we can get the end of the ion channel: $\\xi = \\xi_s + \\frac{r_s^2}{4E_s}$.\n",
    "\n",
    "Now we can plug (6) and (7) into (5) to get the expression for the linear charge density of the witness beam (divided by $2\\pi$). To make the expression simpler, we express $r_s^2$ in terms of $E_s$ first, using equation (6):\n",
    "\n",
    "$$r_s^2 = \\sqrt{R_b^4 + 16E_s^4} - 4E_s^2 \\tag{8}$$\n",
    "\n",
    "Then equation (5) becomes:\n",
    "\n",
    "$$\\lambda(\\xi) = \\sqrt{E_s^4 + \\frac{R_b^4}{16}} - E_s(\\xi - \\xi_s)$$\n",
    "\n",
    "The total charge on the trailing beam is:\n",
    "\n",
    "$$Q_s = 2\\pi \\int_{\\xi_s}^{\\xi_s + \\frac{r_s^2}{4E_s}} \\lambda(\\xi) d\\xi = 2\\pi \\Big[\\sqrt{E_s^4 + \\frac{R_b^4}{16}} - \\frac{E_s}{2}\\frac{r_s^2}{4E_s}\\Big]\\frac{r_s^2}{4E_s}$$\n",
    "\n",
    "Use equation (8) and simply, we obtain:\n",
    "\n",
    "$$Q_s E_s = \\frac{\\pi R_b^4}{16}$$"
   ]
  },
  {
   "cell_type": "markdown",
   "metadata": {},
   "source": [
    "# QuickPIC simulation\n",
    "\n",
    "## 1. Make an input file\n",
    "* In the same directory as this Jupyter notebook, there must be a template input file (the default name is qpinput_template.json) and two python files: mkQPinput_BL.py and pyVisQP.py\n",
    "\n",
    "* We assume azymuthal symmetry, no energy spread and no transverse momentum for the beam.\n",
    "\n",
    "### First we run a simulation with drive beam only. So make sure we select 'number of beams' (5th line) to be 1."
   ]
  },
  {
   "cell_type": "code",
   "execution_count": 13,
   "metadata": {},
   "outputs": [
    {
     "data": {
      "application/vnd.jupyter.widget-view+json": {
       "model_id": "928a7c3d19ea494aa70d320d5510e19d",
       "version_major": 2,
       "version_minor": 0
      },
      "text/plain": [
       "interactive(children=(Text(value='qpinput_template.json', description='Template Input File:', layout=Layout(wi…"
      ]
     },
     "metadata": {},
     "output_type": "display_data"
    }
   ],
   "source": [
    "from importlib import reload\n",
    "import mkQPinput_BL\n",
    "mkQPinput_BL = reload(mkQPinput_BL)\n",
    "mkQPinput_BL.makeWidgetsForInput()"
   ]
  },
  {
   "cell_type": "markdown",
   "metadata": {},
   "source": [
    "## 2. Run QuickPIC simulation ( drive beam only )"
   ]
  },
  {
   "cell_type": "code",
   "execution_count": 6,
   "metadata": {},
   "outputs": [
    {
     "name": "stdout",
     "output_type": "stream",
     "text": [
      "quickpic completed normally\n"
     ]
    }
   ],
   "source": [
    "import quickpic\n",
    "dirname = 'BL_one_bunch'\n",
    "quickpic.runqpic(rundir=dirname,inputfile='qpinput.json')"
   ]
  },
  {
   "cell_type": "markdown",
   "metadata": {},
   "source": [
    "## 3. Visualize the simulation results ( drive beam only )"
   ]
  },
  {
   "cell_type": "code",
   "execution_count": 8,
   "metadata": {},
   "outputs": [
    {
     "data": {
      "application/vnd.jupyter.widget-view+json": {
       "model_id": "35793907c1314ff289c23d616067089f",
       "version_major": 2,
       "version_minor": 0
      },
      "text/plain": [
       "interactive(children=(FloatRangeSlider(value=(-5.0, 0.0), continuous_update=False, description='Colorbar:', ma…"
      ]
     },
     "metadata": {},
     "output_type": "display_data"
    },
    {
     "data": {
      "application/vnd.jupyter.widget-view+json": {
       "model_id": "6e9f5e358c6c4a39bb2ea1b4ea4ea563",
       "version_major": 2,
       "version_minor": 0
      },
      "text/plain": [
       "interactive(children=(FloatRangeSlider(value=(-1.0, 1.0), continuous_update=False, description='Colorbar:', ma…"
      ]
     },
     "metadata": {},
     "output_type": "display_data"
    }
   ],
   "source": [
    "from importlib import reload\n",
    "import pyVisQP\n",
    "pyVisQP = reload(pyVisQP)\n",
    "\n",
    "dirname = 'BL_one_bunch'\n",
    "\n",
    "# LineoutDir can be chosen from: None, 'transverse', 'longitudinal'\n",
    "\n",
    "# Plot the charge density of plasma and beam\n",
    "filename1 = dirname +'/Species0001/Charge_slice_0001/charge_slice_xz_00000001.h5'\n",
    "filename2 = dirname +'/Beam0001/Charge_slice_0001/charge_slice_xz_00000001.h5'\n",
    "filenameList = [filename1,filename2]\n",
    "scaleList = [1,1]\n",
    "pyVisQP.makeplot(filenameList,scaleList,LineoutDir = None)\n",
    "\n",
    "\n",
    "# Plot the accelerating field with transverse and longitudinal lineout\n",
    "filename = dirname +'/Fields/Ez_slice0001/ezslicexz_00000001.h5'\n",
    "filenameList = [filename]\n",
    "pyVisQP.makeplot(filenameList,LineoutDir = 'longitudinal',specify_title = '$E_z \\; [mc\\omega_p / e]$')"
   ]
  },
  {
   "cell_type": "markdown",
   "metadata": {},
   "source": [
    "## 4. Run QuickPIC simulation ( Both drive beam and witness beam )\n",
    "\n",
    "### Now we should go back to step 1, run the cell, select 'number of beams' (5th line) to be 2, then click 'Make New Input!' Then we run the cell below."
   ]
  },
  {
   "cell_type": "code",
   "execution_count": 11,
   "metadata": {},
   "outputs": [
    {
     "name": "stdout",
     "output_type": "stream",
     "text": [
      "quickpic completed normally\n"
     ]
    }
   ],
   "source": [
    "import quickpic\n",
    "dirname = 'BL_two_bunch'\n",
    "quickpic.runqpic(rundir=dirname,inputfile='qpinput.json')"
   ]
  },
  {
   "cell_type": "markdown",
   "metadata": {},
   "source": [
    "## 5. Visualize the simulation results ( Both drive beam and witness beam )"
   ]
  },
  {
   "cell_type": "code",
   "execution_count": 12,
   "metadata": {},
   "outputs": [
    {
     "data": {
      "application/vnd.jupyter.widget-view+json": {
       "model_id": "a67c55ee506746dab5d8db20fe44c535",
       "version_major": 2,
       "version_minor": 0
      },
      "text/plain": [
       "interactive(children=(FloatRangeSlider(value=(-5.0, 0.0), continuous_update=False, description='Colorbar:', ma…"
      ]
     },
     "metadata": {},
     "output_type": "display_data"
    },
    {
     "data": {
      "application/vnd.jupyter.widget-view+json": {
       "model_id": "1bd270f4d4204f9eae253b672d8748c6",
       "version_major": 2,
       "version_minor": 0
      },
      "text/plain": [
       "interactive(children=(FloatRangeSlider(value=(-1.0, 1.0), continuous_update=False, description='Colorbar:', ma…"
      ]
     },
     "metadata": {},
     "output_type": "display_data"
    }
   ],
   "source": [
    "from importlib import reload\n",
    "import pyVisQP\n",
    "pyVisQP = reload(pyVisQP)\n",
    "\n",
    "dirname = 'BL_two_bunch'\n",
    "\n",
    "# LineoutDir can be chosen from: None, 'transverse', 'longitudinal'\n",
    "\n",
    "# Plot the charge density of plasma and beam\n",
    "filename1 = dirname +'/Species0001/Charge_slice_0001/charge_slice_xz_00000001.h5'\n",
    "filename2 = dirname +'/Beam0001/Charge_slice_0001/charge_slice_xz_00000001.h5'\n",
    "filename3 = dirname +'/Beam0002/Charge_slice_0001/charge_slice_xz_00000001.h5'\n",
    "filenameList = [filename1,filename2,filename3]\n",
    "scaleList = [1,1,1]\n",
    "pyVisQP.makeplot(filenameList,scaleList,LineoutDir = None)\n",
    "\n",
    "\n",
    "# Plot the accelerating field with transverse and longitudinal lineout\n",
    "filename = dirname +'/Fields/Ez_slice0001/ezslicexz_00000001.h5'\n",
    "filenameList = [filename]\n",
    "pyVisQP.makeplot(filenameList,LineoutDir = 'longitudinal',specify_title = '$E_z \\; [mc\\omega_p / e]$')"
   ]
  },
  {
   "cell_type": "code",
   "execution_count": null,
   "metadata": {},
   "outputs": [],
   "source": []
  }
 ],
 "metadata": {
  "kernelspec": {
   "display_name": "Python 3",
   "language": "python",
   "name": "python3"
  },
  "language_info": {
   "codemirror_mode": {
    "name": "ipython",
    "version": 3
   },
   "file_extension": ".py",
   "mimetype": "text/x-python",
   "name": "python",
   "nbconvert_exporter": "python",
   "pygments_lexer": "ipython3",
   "version": "3.7.3"
  }
 },
 "nbformat": 4,
 "nbformat_minor": 2
}
